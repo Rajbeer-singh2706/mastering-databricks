{
 "cells": [
  {
   "cell_type": "markdown",
   "metadata": {},
   "source": [
    "https://tigeranalytics.udemy.com/course/databricks-machine-learning/learn/lecture/39176240#overview"
   ]
  },
  {
   "cell_type": "markdown",
   "metadata": {},
   "source": [
    "# **Section 1 : Introduction**"
   ]
  },
  {
   "cell_type": "markdown",
   "metadata": {},
   "source": [
    "# **Section 2: Getting Started with  Databricks Machine learning**"
   ]
  },
  {
   "cell_type": "markdown",
   "metadata": {},
   "source": [
    "### **5. Introduction to Databrkcks Machine Learning**\n",
    "### **6. Lab: Databricks workspace with community Edition**\n",
    "### **7. Lab: Databricks workspace with AZURE CLOUD**\n",
    "### **8. Databricks user interface Overview**"
   ]
  }
 ],
 "metadata": {
  "language_info": {
   "name": "python"
  }
 },
 "nbformat": 4,
 "nbformat_minor": 2
}
